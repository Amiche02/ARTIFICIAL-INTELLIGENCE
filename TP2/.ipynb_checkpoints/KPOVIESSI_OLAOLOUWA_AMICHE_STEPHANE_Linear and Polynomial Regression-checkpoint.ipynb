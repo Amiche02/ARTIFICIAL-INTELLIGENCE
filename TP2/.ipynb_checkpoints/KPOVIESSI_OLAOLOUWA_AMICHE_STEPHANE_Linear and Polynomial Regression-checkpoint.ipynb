{
 "cells": [
  {
   "cell_type": "markdown",
   "id": "cca712be",
   "metadata": {},
   "source": [
    "# Linear and polynomial regression examples:\n",
    "\n",
    "For the same data, we will estimate a linear model, and a polynomial model :\n",
    "### Expected linear model (obtained from Excel):\n",
    "y = -0,052x + 62,561\n",
    "\n",
    "### Expected Polynomial with degree 2 model (obtained also from Excel):\n",
    "y = 0,0214 x<sup>2</sup> - 2,1948 x + 96,306"
   ]
  },
  {
   "cell_type": "markdown",
   "id": "b89a3ea6",
   "metadata": {},
   "source": [
    "## Python Code :"
   ]
  },
  {
   "cell_type": "code",
   "execution_count": null,
   "id": "3f557c5f",
   "metadata": {},
   "outputs": [],
   "source": [
    "import numpy as np\n",
    "import pandas as pd\n",
    "import matplotlib.pyplot as plt\n",
    "from sklearn import linear_model"
   ]
  },
  {
   "cell_type": "code",
   "execution_count": null,
   "id": "e3facec5",
   "metadata": {
    "scrolled": false
   },
   "outputs": [],
   "source": [
    "# You can load your file with numpy :\n",
    "\n",
    "# f= open(\"regression-example-data.csv\")\n",
    "# data = np.loadtxt(f, delimiter=\";\")\n",
    "# print(data)\n",
    "\n",
    "# Or with pandas. In may case I used pandas to set the decimal separator (My file comes from excel)\n",
    "\n",
    "df = pd.read_csv(\"Linear-regression-example-data.csv\", delimiter=\";\", decimal=\",\")\n",
    "data = df.to_numpy()"
   ]
  },
  {
   "cell_type": "code",
   "execution_count": null,
   "id": "e64d9c35",
   "metadata": {},
   "outputs": [],
   "source": [
    "print (data)"
   ]
  },
  {
   "cell_type": "code",
   "execution_count": null,
   "id": "0281e89c",
   "metadata": {},
   "outputs": [],
   "source": [
    "X = data[:,0]   # First column\n",
    "Y = data[:,1]   # Second Column"
   ]
  },
  {
   "cell_type": "code",
   "execution_count": null,
   "id": "b48b34eb",
   "metadata": {},
   "outputs": [],
   "source": [
    "plt.scatter (X, Y)"
   ]
  },
  {
   "cell_type": "markdown",
   "id": "08edcefa",
   "metadata": {},
   "source": [
    "Instanciate the linear model"
   ]
  },
  {
   "cell_type": "code",
   "execution_count": null,
   "id": "8369cb78",
   "metadata": {},
   "outputs": [],
   "source": [
    "reg = linear_model.LinearRegression()"
   ]
  },
  {
   "cell_type": "markdown",
   "id": "cb294d58",
   "metadata": {},
   "source": [
    "Convert X from 1D to 2D :"
   ]
  },
  {
   "cell_type": "code",
   "execution_count": null,
   "id": "11f0df97",
   "metadata": {},
   "outputs": [],
   "source": [
    "print (X)"
   ]
  },
  {
   "cell_type": "code",
   "execution_count": null,
   "id": "2e543764",
   "metadata": {},
   "outputs": [],
   "source": [
    "print (X.shape)"
   ]
  },
  {
   "cell_type": "code",
   "execution_count": null,
   "id": "d2352b22",
   "metadata": {},
   "outputs": [],
   "source": [
    "X = X.reshape(-1, 1)\n",
    "print (X)"
   ]
  },
  {
   "cell_type": "markdown",
   "id": "85c2d401",
   "metadata": {},
   "source": [
    "Training (fitting) the model using our data "
   ]
  },
  {
   "cell_type": "code",
   "execution_count": null,
   "id": "d2b69df6",
   "metadata": {},
   "outputs": [],
   "source": [
    "reg.fit(X,Y)"
   ]
  },
  {
   "cell_type": "code",
   "execution_count": null,
   "id": "71b22516",
   "metadata": {},
   "outputs": [],
   "source": [
    "reg.coef_"
   ]
  },
  {
   "cell_type": "code",
   "execution_count": null,
   "id": "c5717f90",
   "metadata": {},
   "outputs": [],
   "source": [
    "reg.intercept_"
   ]
  },
  {
   "cell_type": "code",
   "execution_count": null,
   "id": "564ecffb",
   "metadata": {},
   "outputs": [],
   "source": [
    "Y_predicted = reg.predict(X)"
   ]
  },
  {
   "cell_type": "code",
   "execution_count": null,
   "id": "14d2ae86",
   "metadata": {},
   "outputs": [],
   "source": [
    "for i in range (X.size):\n",
    "    plt.plot( (X[i],X[i]) , (Y[i],Y_predicted[i]) ,c='gray')\n",
    "    \n",
    "plt.scatter (X, Y_predicted)\n",
    "plt.scatter (X, Y)"
   ]
  },
  {
   "cell_type": "markdown",
   "id": "9f45ebc7",
   "metadata": {},
   "source": [
    "# Polynomial model"
   ]
  },
  {
   "cell_type": "code",
   "execution_count": null,
   "id": "e474a0c5",
   "metadata": {},
   "outputs": [],
   "source": [
    "from sklearn.preprocessing import PolynomialFeatures\n",
    "from sklearn.pipeline import make_pipeline\n",
    "from sklearn.linear_model import Ridge\n",
    "\n",
    "poly =  make_pipeline(PolynomialFeatures(degree=4), Ridge())\n",
    "\n",
    "poly.fit(X, Y)"
   ]
  },
  {
   "cell_type": "code",
   "execution_count": null,
   "id": "f1e93e7b",
   "metadata": {
    "scrolled": true
   },
   "outputs": [],
   "source": [
    "poly.predict([[150],[50]])"
   ]
  },
  {
   "cell_type": "code",
   "execution_count": null,
   "id": "1678f114",
   "metadata": {},
   "outputs": [],
   "source": [
    "#for i in range (X.size):\n",
    "#    plt.plot( (X[i],X[i]) , (Y[i],Y_predicted_poly[i]) ,c='gray')\n",
    "    \n",
    "plt.scatter (X, Y)\n",
    "\n",
    "# This time we choose to display a line instead of a set of predicted points\n",
    "x_plot = np.linspace(0, 100, 100)\n",
    "X_plot = x_plot[:, np.newaxis]  # Same as reshape(-1,1)\n",
    "Y_predicted_poly = poly.predict(X_plot)\n",
    "\n",
    "plt.plot (X_plot, Y_predicted_poly, c=\"red\")"
   ]
  },
  {
   "cell_type": "code",
   "execution_count": null,
   "id": "9095e4b3",
   "metadata": {
    "scrolled": true
   },
   "outputs": [],
   "source": [
    "poly.steps[1][1].coef_"
   ]
  },
  {
   "cell_type": "code",
   "execution_count": null,
   "id": "497735c5",
   "metadata": {
    "scrolled": true
   },
   "outputs": [],
   "source": [
    "poly.steps[1][1].intercept_"
   ]
  },
  {
   "cell_type": "markdown",
   "id": "40ca53a8",
   "metadata": {},
   "source": [
    "# Exercice :\n",
    "Split the data into two groups (X<50 and X>=50) and apply a linear regression for each group."
   ]
  },
  {
   "cell_type": "code",
   "execution_count": null,
   "id": "45f2f8d2",
   "metadata": {},
   "outputs": [],
   "source": []
  },
  {
   "cell_type": "code",
   "execution_count": null,
   "id": "cfc7d6d9",
   "metadata": {},
   "outputs": [],
   "source": []
  },
  {
   "cell_type": "code",
   "execution_count": null,
   "id": "c60bb4f5",
   "metadata": {},
   "outputs": [],
   "source": []
  }
 ],
 "metadata": {
  "kernelspec": {
   "display_name": "Python 3 (ipykernel)",
   "language": "python",
   "name": "python3"
  },
  "language_info": {
   "codemirror_mode": {
    "name": "ipython",
    "version": 3
   },
   "file_extension": ".py",
   "mimetype": "text/x-python",
   "name": "python",
   "nbconvert_exporter": "python",
   "pygments_lexer": "ipython3",
   "version": "3.10.13"
  }
 },
 "nbformat": 4,
 "nbformat_minor": 5
}
